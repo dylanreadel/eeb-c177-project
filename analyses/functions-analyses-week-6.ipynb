{
 "cells": [
  {
   "cell_type": "markdown",
   "metadata": {},
   "source": [
    "# Week 6: Functions Analyses"
   ]
  },
  {
   "cell_type": "markdown",
   "metadata": {},
   "source": [
    "---\n",
    "# Goal for Analysis and Visualization in Part 1\n",
    "\n",
    "### Function:\n",
    "1. reads in the file.\n",
    "2. extracts the observation date column to a list.\n",
    "3. removes the month from each observation date and places in another list.\n",
    "4. checks each observation month to see what season it is in.\n",
    "5. for each observation, a season is appended to a new list.\n",
    "6. a dictionary with keys as seasons and values as observation counts is created.\n",
    "7. the dictionary is plotted as a histogram."
   ]
  },
  {
   "cell_type": "markdown",
   "metadata": {},
   "source": [
    "## Part 1"
   ]
  },
  {
   "cell_type": "code",
   "execution_count": 4,
   "metadata": {},
   "outputs": [],
   "source": [
    "def visualize_occurrences_by_season(filename):    \n",
    "    \n",
    "    # read in the csv data file of species observations\n",
    "    data = pd.read_csv(filename)\n",
    "    \n",
    "    # extract the dates column to a list\n",
    "    dates = data[\"observed_on\"].to_list()\n",
    "    \n",
    "    # create an empty list for dates that are separated using datetime\n",
    "    dates_separated = list()\n",
    "    \n",
    "    # iterate through dates to separate them using datetime\n",
    "    for i in dates:\n",
    "        dates_separated.append(datetime.strptime(i, \"%Y-%m-%d\"))\n",
    "    \n",
    "    # create an empty list for observations by month\n",
    "    months = list()\n",
    "    \n",
    "    # iterate through separated dates list to extract just the month as an integer\n",
    "    for m in dates_separated:\n",
    "        months.append(m.month)\n",
    "    \n",
    "    # create an empty list for observations by season\n",
    "    observations_by_season = list()\n",
    "    \n",
    "    # iterate through each observation in the months list\n",
    "    # by using an if statement for each season\n",
    "    # if the month is in the season's numerical range\n",
    "    # the season is appended to the observation_by_season list\n",
    "    for x in months:\n",
    "        if x in range(1, 4):\n",
    "            observations_by_season.append('winter')\n",
    "        if x in range(4, 7):\n",
    "            observations_by_season.append('spring')\n",
    "        if x in range(7, 10):\n",
    "            observations_by_season.append('summer')\n",
    "        if x in range (10, 13):\n",
    "            observations_by_season.append('autumn')\n",
    "    \n",
    "    # create an empty default dictionary with integers\n",
    "    # for the count of each observation by season\n",
    "    season_counts = defaultdict(int)\n",
    "    \n",
    "    # iterate through seasons in observations_by_season list\n",
    "    # add a count for each season to the season_counts dictionary\n",
    "    for season in observations_by_season:\n",
    "        season_counts[season] = season_counts[season] + 1\n",
    "    \n",
    "    # plot a histogram of the season_counts dictionary\n",
    "    plt.bar(season_counts.keys(), season_counts.values())\n",
    "    \n",
    "    # parameters for the figure\n",
    "    plt.xlabel('Seasons')\n",
    "    plt.ylabel('Number of Occurrences')\n",
    "    plt.title('Bird Occurrences in the LA River Watershed by Season')\n",
    "    plt.show()"
   ]
  },
  {
   "cell_type": "code",
   "execution_count": 4,
   "metadata": {},
   "outputs": [],
   "source": [
    "import pandas\n",
    "import pandas as pd\n",
    "import datetime\n",
    "import numpy\n",
    "import matplotlib.pyplot as plt\n",
    "from datetime import datetime\n",
    "from collections import defaultdict"
   ]
  },
  {
   "cell_type": "code",
   "execution_count": 5,
   "metadata": {},
   "outputs": [
    {
     "data": {
      "image/png": "[encoded data removed]",
      "text/plain": [
       "<Figure size 432x288 with 1 Axes>"
      ]
     },
     "metadata": {
      "needs_background": "light"
     },
     "output_type": "display_data"
    }
   ],
   "source": [
    "# display a histogram of bird occurrences in LA River Watershed by Season\n",
    "\n",
    "visualize_occurrences_by_season('../data/iNaturalist_birds_LARW.csv')"
   ]
  },
  {
   "cell_type": "code",
   "execution_count": 8,
   "metadata": {},
   "outputs": [],
   "source": [
    "# a function used to write a csv file that has a list of all unique species\n",
    "# and the species corresponding counts\n",
    "\n",
    "def counts_of_species(filename):\n",
    "    \n",
    "    data = pd.read_csv(filename)\n",
    "    \n",
    "    species_counts = (data['taxon_species_name'].value_counts()).to_dict()\n",
    "    \n",
    "    with open('species_counts.csv', 'w', newline = '') as csvfile:\n",
    "        writer = csv.writer(csvfile)\n",
    "        for species, counts in species_counts.items():\n",
    "            writer.writerow([species, counts])"
   ]
  },
  {
   "cell_type": "code",
   "execution_count": 11,
   "metadata": {},
   "outputs": [],
   "source": [
    "counts_of_species('../data/iNaturalist_birds_LARW.csv')\n",
    " \n",
    "# the code below is to open and print the species count csv file\n",
    "\n",
    "#with open('species_counts.csv', 'r') as rf:\n",
    "    #reader = csv.reader(rf)\n",
    "    #for line in rf:\n",
    "        #print(line)"
   ]
  },
  {
   "cell_type": "markdown",
   "metadata": {},
   "source": [
    "## Part 2"
   ]
  },
  {
   "cell_type": "code",
   "execution_count": 1,
   "metadata": {},
   "outputs": [],
   "source": [
    "import csv\n",
    "\n",
    "species = dict()\n",
    "\n",
    "# opens csv file with DictReader using csv module\n",
    "with open('../data/iNaturalist_birds_LARW.csv', newline = '') as csvfile:\n",
    "    reader = csv.DictReader(csvfile)\n",
    "    \n",
    "    # iterates through each row in the csv file\n",
    "    # prints the species name and whether or not the species is considered in its natural range\n",
    "    for row in reader:\n",
    "        #print(row['taxon_species_name'], row['out_of_range'])"
   ]
  },
  {
   "cell_type": "markdown",
   "metadata": {},
   "source": [
    "## Part 3"
   ]
  },
  {
   "cell_type": "code",
   "execution_count": 27,
   "metadata": {},
   "outputs": [],
   "source": [
    "# function used to write to a text file a description of the unique bird species, genera,\n",
    "# families, and orders found in the dataset\n",
    "\n",
    "def unique_birds(filename):\n",
    "    data = pd.read_csv(filename)\n",
    "\n",
    "    unique_species = len(set(data['taxon_species_name']))\n",
    "    unique_genera = len(set(data['taxon_genus_name']))\n",
    "    unique_families = len(set(data['taxon_family_name']))\n",
    "    unique_orders = len(set(data['taxon_order_name']))\n",
    "    \n",
    "    unique_counts_text = 'In the LA River Watershed, according to the dataset:\\nThere are {} unique species of birds.\\nThere are {} unique genera of birds.\\nThere are {} unique families of birds.\\nAnd, there are {} unique orders of birds.'.format(unique_species, unique_genera, unique_families, unique_orders)\n",
    "    \n",
    "    with open('unique_birds.txt', 'w') as wf:\n",
    "        for line in unique_counts_text:\n",
    "            wf.write(line)"
   ]
  },
  {
   "cell_type": "code",
   "execution_count": 28,
   "metadata": {},
   "outputs": [],
   "source": [
    "unique_birds('../data/iNaturalist_birds_LARW.csv')"
   ]
  },
  {
   "cell_type": "code",
   "execution_count": 30,
   "metadata": {},
   "outputs": [
    {
     "name": "stdout",
     "output_type": "stream",
     "text": [
      "In the LA River Watershed, according to the dataset:\n",
      "\n",
      "There are 366 unique species of birds.\n",
      "\n",
      "There are 206 unique genera of birds.\n",
      "\n",
      "There are 65 unique families of birds.\n",
      "\n",
      "And, there are 19 unique orders of birds.\n"
     ]
    }
   ],
   "source": [
    "# opening and printing the text file written above\n",
    "# about how many species, genera, families, and orders of birds\n",
    "\n",
    "with open('unique_birds.txt', 'r') as rf:\n",
    "    for line in rf:\n",
    "        print(line)"
   ]
  },
  {
   "cell_type": "code",
   "execution_count": 79,
   "metadata": {},
   "outputs": [],
   "source": [
    "# function for visualizing the bird occurrences that are considered inside or\n",
    "# outside of their natural ranges\n",
    "# function also writes to a csv file the number of birds that were inside\n",
    "# or outside of their natural ranges\n",
    "\n",
    "def bird_range(filename):\n",
    "    \n",
    "    # read in data\n",
    "    data = pd.read_csv(filename)\n",
    "    \n",
    "    # extract range column and move to list called ranges\n",
    "    ranges = data['out_of_range'].to_list()\n",
    "    \n",
    "    # create an empty list for renamed range classification\n",
    "    # originally: True/False\n",
    "    # new: Out of Range/In Range\n",
    "    ranges_renamed = list()\n",
    "    \n",
    "    # iterate through the true/false values in ranges list\n",
    "    # i == 1 corresponds to True which means the bird is out of range\n",
    "    for i in ranges:\n",
    "        if (i == 1):\n",
    "            ranges_renamed.append('Out of Range')\n",
    "        else:\n",
    "            ranges_renamed.append('In Range')\n",
    "    \n",
    "    # create an empty defaultdict with values of integers\n",
    "    range_counts = defaultdict(int)\n",
    "    \n",
    "    # iterate through new range list items\n",
    "    # for each item, move to dictionary and add a count of 1 for that item to the value\n",
    "    # end result is a dictionary with 2 keys: Out of Range, In Range\n",
    "    # each key has the counts of the birds corresponding to both\n",
    "    for x in ranges_renamed:\n",
    "        range_counts[x] = range_counts[x] + 1\n",
    "    \n",
    "    # plot a histogram using the dictionary to display in range vs. out of range\n",
    "    plt.bar(range_counts.keys(), range_counts.values())\n",
    "    \n",
    "    # parameters for the figure\n",
    "    plt.ylabel('Number of Occurrences')\n",
    "    plt.title('Number of Bird Occurrences Inside or Outside Natural Ranges')\n",
    "    plt.show()\n",
    "    \n",
    "    # write the counts of each range category to a csv file\n",
    "    with open('bird_ranges.csv', 'w', newline = '') as csvfile:\n",
    "        writer = csv.writer(csvfile)\n",
    "        for r, c in range_counts.items():\n",
    "            writer.writerow([r, c])"
   ]
  },
  {
   "cell_type": "code",
   "execution_count": 80,
   "metadata": {},
   "outputs": [
    {
     "data": {
      "image/png": "[encoded data removed]",
      "text/plain": [
       "<Figure size 432x288 with 1 Axes>"
      ]
     },
     "metadata": {
      "needs_background": "light"
     },
     "output_type": "display_data"
    }
   ],
   "source": [
    "bird_range('../data/iNaturalist_birds_LARW.csv')"
   ]
  },
  {
   "cell_type": "code",
   "execution_count": 76,
   "metadata": {},
   "outputs": [
    {
     "name": "stdout",
     "output_type": "stream",
     "text": [
      "Bird Occurrences Inside Range: 39247\n",
      "\n",
      "Bird Occurrences Outside Range: 3575\n",
      "\n"
     ]
    }
   ],
   "source": [
    "# opening the csv file containing the counts of birds\n",
    "# inside or outside of range \n",
    "\n",
    "with open('bird_ranges.csv', 'r') as rf:\n",
    "    for i, line in enumerate(rf):\n",
    "        if (i== 0):\n",
    "            print('Bird Occurrences Inside Range:', line[-6:])\n",
    "        if (i == 1):\n",
    "            print('Bird Occurrences Outside Range:', line[-5:])"
   ]
  },
  {
   "cell_type": "code",
   "execution_count": null,
   "metadata": {},
   "outputs": [],
   "source": []
  }
 ],
 "metadata": {
  "kernelspec": {
   "display_name": "Python 3",
   "language": "python",
   "name": "python3"
  },
  "language_info": {
   "codemirror_mode": {
    "name": "ipython",
    "version": 3
   },
   "file_extension": ".py",
   "mimetype": "text/x-python",
   "name": "python",
   "nbconvert_exporter": "python",
   "pygments_lexer": "ipython3",
   "version": "3.7.5"
  }
 },
 "nbformat": 4,
 "nbformat_minor": 2
}
